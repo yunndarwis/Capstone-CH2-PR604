{
  "cells": [
    {
      "cell_type": "markdown",
      "metadata": {
        "id": "QH1z-8wPlbwC"
      },
      "source": [
        "Import Libraries"
      ]
    },
    {
      "cell_type": "code",
      "execution_count": 1,
      "metadata": {
        "id": "p9kR9cd6la5z"
      },
      "outputs": [],
      "source": [
        "import pandas as pd\n",
        "import seaborn as sns\n",
        "import heapq\n",
        "import pandas as pd\n",
        "import tensorflow as tf\n",
        "from sklearn.model_selection import train_test_split\n",
        "from sklearn.preprocessing import StandardScaler\n",
        "from sklearn.metrics import accuracy_score, precision_score, recall_score"
      ]
    },
    {
      "cell_type": "markdown",
      "metadata": {
        "id": "LscBC635lbHk"
      },
      "source": [
        "Download Dataset"
      ]
    },
    {
      "cell_type": "code",
      "execution_count": 2,
      "metadata": {
        "colab": {
          "base_uri": "https://localhost:8080/"
        },
        "id": "zdQxOZq_xyIe",
        "outputId": "a0746d79-8a4e-4091-de6c-3e5d863bf4ac"
      },
      "outputs": [
        {
          "output_type": "stream",
          "name": "stdout",
          "text": [
            "--2023-12-03 07:01:51--  https://drive.google.com/uc?export=download&id=11AFzQrlWoGF9SqFrDGGS65oP9L48Ajg4\n",
            "Resolving drive.google.com (drive.google.com)... 142.251.2.139, 142.251.2.101, 142.251.2.113, ...\n",
            "Connecting to drive.google.com (drive.google.com)|142.251.2.139|:443... connected.\n",
            "HTTP request sent, awaiting response... 303 See Other\n",
            "Location: https://doc-04-b4-docs.googleusercontent.com/docs/securesc/ha0ro937gcuc7l7deffksulhg5h7mbp1/qvtbbeh6po1deda6irp1frmogb37gspn/1701586875000/03346498828059726724/*/11AFzQrlWoGF9SqFrDGGS65oP9L48Ajg4?e=download&uuid=0b78248f-99ed-4c35-88ef-cc54a4f70649 [following]\n",
            "Warning: wildcards not supported in HTTP.\n",
            "--2023-12-03 07:01:52--  https://doc-04-b4-docs.googleusercontent.com/docs/securesc/ha0ro937gcuc7l7deffksulhg5h7mbp1/qvtbbeh6po1deda6irp1frmogb37gspn/1701586875000/03346498828059726724/*/11AFzQrlWoGF9SqFrDGGS65oP9L48Ajg4?e=download&uuid=0b78248f-99ed-4c35-88ef-cc54a4f70649\n",
            "Resolving doc-04-b4-docs.googleusercontent.com (doc-04-b4-docs.googleusercontent.com)... 142.251.2.132, 2607:f8b0:4023:c0d::84\n",
            "Connecting to doc-04-b4-docs.googleusercontent.com (doc-04-b4-docs.googleusercontent.com)|142.251.2.132|:443... connected.\n",
            "HTTP request sent, awaiting response... 200 OK\n",
            "Length: 98302 (96K) [text/csv]\n",
            "Saving to: ‘/content/diabetes_dataset__2019.csv’\n",
            "\n",
            "/content/diabetes_d 100%[===================>]  96.00K  --.-KB/s    in 0.05s   \n",
            "\n",
            "2023-12-03 07:01:52 (1.83 MB/s) - ‘/content/diabetes_dataset__2019.csv’ saved [98302/98302]\n",
            "\n"
          ]
        }
      ],
      "source": [
        "!wget --no-check-certificate \\\n",
        "    \"https://drive.google.com/uc?export=download&id=11AFzQrlWoGF9SqFrDGGS65oP9L48Ajg4\" \\\n",
        "    -O \"/content/diabetes_dataset__2019.csv\""
      ]
    },
    {
      "cell_type": "markdown",
      "metadata": {
        "id": "qysZvtmnGMQI"
      },
      "source": [
        "Explore Dataset"
      ]
    },
    {
      "cell_type": "code",
      "execution_count": 3,
      "metadata": {
        "colab": {
          "base_uri": "https://localhost:8080/"
        },
        "id": "Krdjv_5oxzS7",
        "outputId": "d956ade6-2723-40f1-e112-5f47ef57910a"
      },
      "outputs": [
        {
          "output_type": "stream",
          "name": "stdout",
          "text": [
            "<class 'pandas.core.frame.DataFrame'>\n",
            "RangeIndex: 952 entries, 0 to 951\n",
            "Data columns (total 18 columns):\n",
            " #   Column            Non-Null Count  Dtype  \n",
            "---  ------            --------------  -----  \n",
            " 0   Age               952 non-null    object \n",
            " 1   Gender            952 non-null    object \n",
            " 2   Family_Diabetes   952 non-null    object \n",
            " 3   highBP            952 non-null    object \n",
            " 4   PhysicallyActive  952 non-null    object \n",
            " 5   BMI               948 non-null    float64\n",
            " 6   Smoking           952 non-null    object \n",
            " 7   Alcohol           952 non-null    object \n",
            " 8   Sleep             952 non-null    int64  \n",
            " 9   SoundSleep        952 non-null    int64  \n",
            " 10  RegularMedicine   952 non-null    object \n",
            " 11  JunkFood          952 non-null    object \n",
            " 12  Stress            952 non-null    object \n",
            " 13  BPLevel           952 non-null    object \n",
            " 14  Pregancies        910 non-null    float64\n",
            " 15  Pdiabetes         951 non-null    object \n",
            " 16  UriationFreq      952 non-null    object \n",
            " 17  Diabetic          951 non-null    object \n",
            "dtypes: float64(2), int64(2), object(14)\n",
            "memory usage: 134.0+ KB\n"
          ]
        }
      ],
      "source": [
        "diabetes_df = pd.read_csv(\"/content/diabetes_dataset__2019.csv\")\n",
        "\n",
        "diabetes_df.head()\n",
        "diabetes_df.info()"
      ]
    },
    {
      "cell_type": "markdown",
      "metadata": {
        "id": "vd7aLcs6GShy"
      },
      "source": [
        "Data Cleaning"
      ]
    },
    {
      "cell_type": "code",
      "execution_count": 4,
      "metadata": {
        "colab": {
          "base_uri": "https://localhost:8080/"
        },
        "id": "pxDG54Xg7OcT",
        "outputId": "5c670b38-9daf-44fa-dcbd-979d42a3afac"
      },
      "outputs": [
        {
          "output_type": "stream",
          "name": "stdout",
          "text": [
            "Value of each column\n",
            "Age\n",
            "less than 40    488\n",
            "40-49           164\n",
            "50-59           156\n",
            "60 or older     144\n",
            "Name: Age, dtype: int64\n",
            "\n",
            "\n",
            "Gender\n",
            "Male      580\n",
            "Female    372\n",
            "Name: Gender, dtype: int64\n",
            "\n",
            "\n",
            "Family_Diabetes\n",
            "no     498\n",
            "yes    454\n",
            "Name: Family_Diabetes, dtype: int64\n",
            "\n",
            "\n",
            "highBP\n",
            "no     724\n",
            "yes    228\n",
            "Name: highBP, dtype: int64\n",
            "\n",
            "\n",
            "PhysicallyActive\n",
            "less than half an hr    336\n",
            "more than half an hr    272\n",
            "one hr or more          212\n",
            "none                    132\n",
            "Name: PhysicallyActive, dtype: int64\n",
            "\n",
            "\n",
            "BMI\n",
            "24.0    111\n",
            "21.0     88\n",
            "23.0     76\n",
            "28.0     71\n",
            "26.0     66\n",
            "33.0     64\n",
            "27.0     63\n",
            "22.0     58\n",
            "20.0     48\n",
            "19.0     36\n",
            "25.0     34\n",
            "30.0     33\n",
            "18.0     32\n",
            "29.0     28\n",
            "38.0     28\n",
            "36.0     20\n",
            "17.0     16\n",
            "32.0     16\n",
            "31.0     16\n",
            "34.0     12\n",
            "35.0     12\n",
            "15.0      8\n",
            "39.0      4\n",
            "40.0      4\n",
            "42.0      3\n",
            "45.0      1\n",
            "Name: BMI, dtype: int64\n",
            "\n",
            "\n",
            "Smoking\n",
            "no     844\n",
            "yes    108\n",
            "Name: Smoking, dtype: int64\n",
            "\n",
            "\n",
            "Alcohol\n",
            "no     760\n",
            "yes    192\n",
            "Name: Alcohol, dtype: int64\n",
            "\n",
            "\n",
            "Sleep\n",
            "7     264\n",
            "8     256\n",
            "6     256\n",
            "5      68\n",
            "9      48\n",
            "4      32\n",
            "10     24\n",
            "11      4\n",
            "Name: Sleep, dtype: int64\n",
            "\n",
            "\n",
            "SoundSleep\n",
            "6     228\n",
            "4     188\n",
            "5     156\n",
            "8     120\n",
            "7     104\n",
            "3      68\n",
            "2      44\n",
            "10     16\n",
            "9      16\n",
            "11      4\n",
            "1       4\n",
            "0       4\n",
            "Name: SoundSleep, dtype: int64\n",
            "\n",
            "\n",
            "RegularMedicine\n",
            "no     615\n",
            "yes    336\n",
            "o        1\n",
            "Name: RegularMedicine, dtype: int64\n",
            "\n",
            "\n",
            "JunkFood\n",
            "occasionally    672\n",
            "often           184\n",
            "very often       52\n",
            "always           44\n",
            "Name: JunkFood, dtype: int64\n",
            "\n",
            "\n",
            "Stress\n",
            "sometimes     564\n",
            "very often    164\n",
            "not at all    136\n",
            "always         88\n",
            "Name: Stress, dtype: int64\n",
            "\n",
            "\n",
            "BPLevel\n",
            "normal     707\n",
            "high       211\n",
            "low         25\n",
            "High         5\n",
            "Low          3\n",
            "normal       1\n",
            "Name: BPLevel, dtype: int64\n",
            "\n",
            "\n",
            "Pregancies\n",
            "0.0    754\n",
            "2.0     64\n",
            "3.0     60\n",
            "1.0     28\n",
            "4.0      4\n",
            "Name: Pregancies, dtype: int64\n",
            "\n",
            "\n",
            "Pdiabetes\n",
            "0      936\n",
            "yes     14\n",
            "no       1\n",
            "Name: Pdiabetes, dtype: int64\n",
            "\n",
            "\n",
            "UriationFreq\n",
            "not much       664\n",
            "quite often    288\n",
            "Name: UriationFreq, dtype: int64\n",
            "\n",
            "\n",
            "Diabetic\n",
            "no     684\n",
            "yes    266\n",
            " no      1\n",
            "Name: Diabetic, dtype: int64\n",
            "\n",
            "\n"
          ]
        }
      ],
      "source": [
        "# see the value of each column\n",
        "print('Value of each column')\n",
        "for col in diabetes_df.columns:\n",
        "    print(col)\n",
        "    print(diabetes_df[col].value_counts())\n",
        "    print(\"\\n\")\n",
        "\n",
        "# remove unused data\n",
        "diabetes_df.drop('SoundSleep',axis=1,inplace=True)\n",
        "diabetes_df.drop('highBP',axis=1,inplace=True)\n",
        "diabetes_df.drop('UriationFreq',axis=1,inplace=True)\n",
        "diabetes_df.drop('Stress',axis=1,inplace=True)\n",
        "diabetes_df.drop('JunkFood',axis=1,inplace=True)\n",
        "diabetes_df.drop('BPLevel',axis=1,inplace=True)\n",
        "\n",
        "# remove empty data\n",
        "diabetes_df = diabetes_df[diabetes_df['BMI'].notna()]\n",
        "diabetes_df = diabetes_df[diabetes_df['Pregancies'].notna()]\n",
        "diabetes_df = diabetes_df[diabetes_df['Diabetic'].notna()]\n",
        "diabetes_df = diabetes_df[diabetes_df['Pdiabetes'].notna()]\n",
        "\n",
        "# Age\n",
        "diabetes_df['Age'].replace(['less than 40', '40-49', '50-59','60 or older'], ['0','1','2','3',], inplace=True)\n",
        "\n",
        "# Gender\n",
        "diabetes_df['Gender'].replace(['Male','Female'],['0','1'], inplace=True)\n",
        "\n",
        "#Family_Diabetes\n",
        "diabetes_df['Family_Diabetes'].replace(['no', 'yes'],['0','1'], inplace=True)\n",
        "\n",
        "# PhysicallyActive\n",
        "diabetes_df['PhysicallyActive'].replace(['none', 'less than half an hr', 'more than half an hr', 'one hr or more'], ['0','1','2','3'], inplace=True)\n",
        "\n",
        "# Smoking\n",
        "diabetes_df['Smoking'].replace(['no','yes'],['0','1'], inplace=True)\n",
        "\n",
        "# Alcohol\n",
        "diabetes_df['Alcohol'].replace(['no','yes'],['0','1'], inplace=True)\n",
        "\n",
        "# RegularMedicine\n",
        "diabetes_df['RegularMedicine'].replace(['no','o','yes'],['0','0','1'], inplace=True)\n",
        "\n",
        "# Pdiabetes\n",
        "diabetes_df['Pdiabetes'].replace(['0','yes'],['0','1'], inplace=True)\n",
        "\n",
        "# Diabetic\n",
        "diabetes_df['Diabetic'].replace(['no',' no','yes'],['0','0','1'], inplace=True)"
      ]
    },
    {
      "cell_type": "markdown",
      "metadata": {
        "id": "aYV8BnVKGt2M"
      },
      "source": [
        "Split Dataframe: Diabetic and Non-diabetic"
      ]
    },
    {
      "cell_type": "code",
      "execution_count": 5,
      "metadata": {
        "id": "EjCoWcL6U8Ql"
      },
      "outputs": [],
      "source": [
        "diabetic_mask = diabetes_df['Diabetic'] == '1'\n",
        "diabetic_df = diabetes_df[diabetic_mask]\n",
        "\n",
        "not_diabetic_mask = diabetes_df['Diabetic'] == '0'\n",
        "not_diabetic_df = diabetes_df[not_diabetic_mask]\n",
        "\n",
        "diabetic_df.to_csv('diab_clean.csv', encoding='utf-8', index=False)\n",
        "diabetic_clean_df = pd.read_csv('diab_clean.csv')\n",
        "diabetic_clean_df['Diabetic'] = diabetic_clean_df['Diabetic'].fillna(1)\n",
        "\n",
        "not_diabetic_df.to_csv('not_diab_clean.csv', encoding='utf-8', index=False)\n",
        "not_diabetic_clean_df = pd.read_csv('not_diab_clean.csv')\n",
        "not_diabetic_clean_df['Diabetic'] = not_diabetic_clean_df['Diabetic'].fillna(0)\n",
        "\n",
        "frames = [diabetic_clean_df, not_diabetic_clean_df]\n",
        "diabetes_clean_df = pd.concat(frames)\n",
        "diabetes_clean_df.to_csv('diabetes_clean_df.csv', encoding='utf-8', index=False)\n",
        "\n",
        "diab_df = pd.read_csv('diab_clean.csv')\n",
        "not_diab_df = pd.read_csv('not_diab_clean.csv')"
      ]
    },
    {
      "cell_type": "markdown",
      "metadata": {
        "id": "aAp0ENj-MtgI"
      },
      "source": [
        "Model Tensorflow"
      ]
    },
    {
      "cell_type": "code",
      "execution_count": 6,
      "metadata": {
        "colab": {
          "base_uri": "https://localhost:8080/"
        },
        "id": "aJmyOrfYMs2j",
        "outputId": "ea06972f-e326-4ebd-9494-517deae39622"
      },
      "outputs": [
        {
          "output_type": "stream",
          "name": "stdout",
          "text": [
            "Epoch 1/10\n",
            "21/21 [==============================] - 2s 23ms/step - loss: 0.6485 - accuracy: 0.6605 - val_loss: 0.5504 - val_accuracy: 0.8356\n",
            "Epoch 2/10\n",
            "21/21 [==============================] - 0s 9ms/step - loss: 0.5473 - accuracy: 0.7419 - val_loss: 0.4419 - val_accuracy: 0.8356\n",
            "Epoch 3/10\n",
            "21/21 [==============================] - 0s 7ms/step - loss: 0.4685 - accuracy: 0.7896 - val_loss: 0.3735 - val_accuracy: 0.8630\n",
            "Epoch 4/10\n",
            "21/21 [==============================] - 0s 8ms/step - loss: 0.4142 - accuracy: 0.8233 - val_loss: 0.3375 - val_accuracy: 0.8493\n",
            "Epoch 5/10\n",
            "21/21 [==============================] - 0s 8ms/step - loss: 0.3841 - accuracy: 0.8372 - val_loss: 0.3267 - val_accuracy: 0.8904\n",
            "Epoch 6/10\n",
            "21/21 [==============================] - 0s 5ms/step - loss: 0.3648 - accuracy: 0.8356 - val_loss: 0.3207 - val_accuracy: 0.9041\n",
            "Epoch 7/10\n",
            "21/21 [==============================] - 0s 10ms/step - loss: 0.3510 - accuracy: 0.8433 - val_loss: 0.3149 - val_accuracy: 0.9041\n",
            "Epoch 8/10\n",
            "21/21 [==============================] - 0s 7ms/step - loss: 0.3433 - accuracy: 0.8464 - val_loss: 0.3136 - val_accuracy: 0.9041\n",
            "Epoch 9/10\n",
            "21/21 [==============================] - 0s 6ms/step - loss: 0.3337 - accuracy: 0.8433 - val_loss: 0.3098 - val_accuracy: 0.9041\n",
            "Epoch 10/10\n",
            "21/21 [==============================] - 0s 6ms/step - loss: 0.3246 - accuracy: 0.8633 - val_loss: 0.3094 - val_accuracy: 0.9041\n",
            "6/6 [==============================] - 0s 3ms/step\n",
            "Accuracy:  0.8950276243093923\n",
            "Precision:  0.7872340425531915\n",
            "Recall:  0.8043478260869565\n"
          ]
        }
      ],
      "source": [
        "# Load the cleaned dataset\n",
        "diabetes_clean_df = pd.read_csv('diabetes_clean_df.csv')\n",
        "\n",
        "# Extract features and target variable\n",
        "choices = [\"Gender\", \"Family_Diabetes\", \"PhysicallyActive\", \"BMI\", \"Pdiabetes\", \"Smoking\", \"Alcohol\", \"Sleep\", \"RegularMedicine\", \"Pregancies\"]\n",
        "X = diabetes_clean_df[choices]\n",
        "y = diabetes_clean_df['Diabetic']\n",
        "\n",
        "# Convert categorical variables to one-hot encoding\n",
        "X = pd.get_dummies(X, columns=[\"Gender\", \"Family_Diabetes\", \"PhysicallyActive\", \"Smoking\", \"Alcohol\", \"RegularMedicine\"])\n",
        "\n",
        "# Standardize numerical features\n",
        "scaler = StandardScaler()\n",
        "X[['BMI', 'Sleep', 'Pregancies']] = scaler.fit_transform(X[['BMI', 'Sleep', 'Pregancies']])\n",
        "\n",
        "# Split the dataset into training and testing sets\n",
        "test_size = 0.2\n",
        "X_train, X_test, y_train, y_test = train_test_split(X, y, test_size=test_size, random_state=2)\n",
        "\n",
        "# Build the TensorFlow model\n",
        "model = tf.keras.Sequential([\n",
        "    tf.keras.layers.Dense(64, activation='relu', input_shape=(X_train.shape[1],)),\n",
        "    tf.keras.layers.Dense(32, activation='relu'),\n",
        "    tf.keras.layers.Dense(1, activation='sigmoid')\n",
        "])\n",
        "\n",
        "# Compile the model\n",
        "model.compile(optimizer='adam', loss='binary_crossentropy', metrics=['accuracy'])\n",
        "\n",
        "# Train the model\n",
        "model.fit(X_train, y_train, epochs=10, batch_size=32, validation_split=0.1)\n",
        "\n",
        "# Evaluate the model on the test set\n",
        "y_pred_proba = model.predict(X_test)\n",
        "y_pred = (y_pred_proba > 0.5).astype(int)\n",
        "\n",
        "# Calculate metrics\n",
        "acc = accuracy_score(y_test, y_pred)\n",
        "prec = precision_score(y_test, y_pred)\n",
        "rec = recall_score(y_test, y_pred)\n",
        "\n",
        "# Print the metrics\n",
        "print(\"Accuracy: \", acc)\n",
        "print(\"Precision: \", prec)\n",
        "print(\"Recall: \", rec)"
      ]
    },
    {
      "cell_type": "markdown",
      "source": [],
      "metadata": {
        "id": "iRSQQlnygXfV"
      }
    },
    {
      "cell_type": "code",
      "source": [
        "# Save the original TensorFlow model\n",
        "model.save(\"model.h5\")\n",
        "# Convert the TensorFlow model to TensorFlow Lite format\n",
        "converter = tf.lite.TFLiteConverter.from_keras_model(model)\n",
        "tflite_model = converter.convert()\n",
        "# Save the TensorFlow Lite model to a file\n",
        "with open(\"model.tflite\", \"wb\") as f:\n",
        "    f.write(tflite_model)"
      ],
      "metadata": {
        "colab": {
          "base_uri": "https://localhost:8080/"
        },
        "id": "vw9hiGLSfs8U",
        "outputId": "f6b9540f-6fb0-4396-8dfa-1651e32e7992"
      },
      "execution_count": 11,
      "outputs": [
        {
          "output_type": "stream",
          "name": "stderr",
          "text": [
            "/usr/local/lib/python3.10/dist-packages/keras/src/engine/training.py:3079: UserWarning: You are saving your model as an HDF5 file via `model.save()`. This file format is considered legacy. We recommend using instead the native Keras format, e.g. `model.save('my_model.keras')`.\n",
            "  saving_api.save_model(\n"
          ]
        }
      ]
    }
  ],
  "metadata": {
    "colab": {
      "provenance": []
    },
    "kernelspec": {
      "display_name": "Python 3",
      "name": "python3"
    },
    "language_info": {
      "name": "python"
    }
  },
  "nbformat": 4,
  "nbformat_minor": 0
}